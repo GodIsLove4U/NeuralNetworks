{
 "cells": [
  {
   "cell_type": "code",
   "execution_count": 23,
   "metadata": {},
   "outputs": [],
   "source": [
    "# Import our dependencies\n",
    "import pandas as pd\n",
    "import matplotlib as plt\n",
    "from sklearn.datasets import make_blobs\n",
    "import sklearn as skl\n",
    "import tensorflow as tf\n",
    "\n",
    "from path import Path\n",
    "from tensorflow.keras.models import Sequential\n",
    "from tensorflow.keras.layers import Dense\n",
    "from sklearn.preprocessing import StandardScaler\n",
    "from sklearn.model_selection import train_test_split\n",
    "%matplotlib inline"
   ]
  },
  {
   "cell_type": "code",
   "execution_count": 24,
   "metadata": {},
   "outputs": [
    {
     "data": {
      "text/plain": [
       "<matplotlib.axes._subplots.AxesSubplot at 0x259c101d1c8>"
      ]
     },
     "execution_count": 24,
     "metadata": {},
     "output_type": "execute_result"
    },
    {
     "data": {
      "image/png": "[encoded data removed]",
      "text/plain": [
       "<Figure size 432x288 with 2 Axes>"
      ]
     },
     "metadata": {
      "needs_background": "light"
     },
     "output_type": "display_data"
    }
   ],
   "source": [
    "# Generate dummy dataset\n",
    "X, y = make_blobs(n_samples=1000, centers=2, n_features=2, random_state=78)\n",
    "\n",
    "# Creating a DataFrame with the dummy data\n",
    "df = pd.DataFrame(X, columns=[\"Feature 1\", \"Feature 2\"])\n",
    "df[\"Target\"] = y\n",
    "\n",
    "# Plotting the dummy data\n",
    "df.plot.scatter(x=\"Feature 1\", y=\"Feature 2\", c=\"Target\", colormap=\"winter\")\n"
   ]
  },
  {
   "cell_type": "code",
   "execution_count": 25,
   "metadata": {},
   "outputs": [],
   "source": [
    "# Use sklearn to split dataset\n",
    "from sklearn.model_selection import train_test_split\n",
    "X_train, X_test, y_train, y_test = train_test_split(X, y, random_state=78)"
   ]
  },
  {
   "cell_type": "code",
   "execution_count": 26,
   "metadata": {},
   "outputs": [],
   "source": [
    "# Create scaler instance\n",
    "X_scaler = skl.preprocessing.StandardScaler()\n",
    "\n",
    "# Fit the scaler\n",
    "X_scaler.fit(X_train)\n",
    "\n",
    "# Scale the data\n",
    "X_train_scaled = X_scaler.transform(X_train)\n",
    "X_test_scaled = X_scaler.transform(X_test)"
   ]
  },
  {
   "cell_type": "code",
   "execution_count": 27,
   "metadata": {},
   "outputs": [],
   "source": [
    "# Create the Keras Sequential model\n",
    "nn_model = tf.keras.models.Sequential()"
   ]
  },
  {
   "cell_type": "code",
   "execution_count": 28,
   "metadata": {},
   "outputs": [],
   "source": [
    "# Add our first Dense layer, including the input layer\n",
    "nn_model.add(tf.keras.layers.Dense(units=1, activation=\"relu\", input_dim=2))"
   ]
  },
  {
   "cell_type": "code",
   "execution_count": 29,
   "metadata": {},
   "outputs": [],
   "source": [
    "# Add the output layer that uses a probability activation function\n",
    "nn_model.add(tf.keras.layers.Dense(units=1, activation=\"sigmoid\"))"
   ]
  },
  {
   "cell_type": "code",
   "execution_count": 30,
   "metadata": {},
   "outputs": [
    {
     "name": "stdout",
     "output_type": "stream",
     "text": [
      "Model: \"sequential_2\"\n",
      "_________________________________________________________________\n",
      "Layer (type)                 Output Shape              Param #   \n",
      "=================================================================\n",
      "dense_4 (Dense)              (None, 1)                 3         \n",
      "_________________________________________________________________\n",
      "dense_5 (Dense)              (None, 1)                 2         \n",
      "=================================================================\n",
      "Total params: 5\n",
      "Trainable params: 5\n",
      "Non-trainable params: 0\n",
      "_________________________________________________________________\n"
     ]
    }
   ],
   "source": [
    "# Check the structure of the Sequential model\n",
    "nn_model.summary()"
   ]
  },
  {
   "cell_type": "code",
   "execution_count": 31,
   "metadata": {},
   "outputs": [],
   "source": [
    "# Compile the Sequential model together and customize metrics\n",
    "nn_model.compile(loss=\"binary_crossentropy\", optimizer=\"adam\", metrics=[\"accuracy\"])"
   ]
  },
  {
   "cell_type": "code",
   "execution_count": 32,
   "metadata": {},
   "outputs": [
    {
     "name": "stdout",
     "output_type": "stream",
     "text": [
      "Epoch 1/100\n",
      "750/750 [==============================] - 0s 578us/sample - loss: 0.5247 - acc: 0.9973\n",
      "Epoch 2/100\n",
      "750/750 [==============================] - 0s 79us/sample - loss: 0.5108 - acc: 0.9987\n",
      "Epoch 3/100\n",
      "750/750 [==============================] - 0s 96us/sample - loss: 0.4970 - acc: 0.9987\n",
      "Epoch 4/100\n",
      "750/750 [==============================] - 0s 67us/sample - loss: 0.4830 - acc: 1.0000\n",
      "Epoch 5/100\n",
      "750/750 [==============================] - 0s 63us/sample - loss: 0.4692 - acc: 1.0000\n",
      "Epoch 6/100\n",
      "750/750 [==============================] - 0s 79us/sample - loss: 0.4557 - acc: 1.0000\n",
      "Epoch 7/100\n",
      "750/750 [==============================] - 0s 63us/sample - loss: 0.4423 - acc: 1.0000\n",
      "Epoch 8/100\n",
      "750/750 [==============================] - 0s 65us/sample - loss: 0.4293 - acc: 1.0000\n",
      "Epoch 9/100\n",
      "750/750 [==============================] - 0s 83us/sample - loss: 0.4166 - acc: 1.0000\n",
      "Epoch 10/100\n",
      "750/750 [==============================] - 0s 60us/sample - loss: 0.4043 - acc: 1.0000\n",
      "Epoch 11/100\n",
      "750/750 [==============================] - 0s 61us/sample - loss: 0.3923 - acc: 1.0000\n",
      "Epoch 12/100\n",
      "750/750 [==============================] - 0s 82us/sample - loss: 0.3808 - acc: 1.0000\n",
      "Epoch 13/100\n",
      "750/750 [==============================] - 0s 77us/sample - loss: 0.3697 - acc: 1.0000\n",
      "Epoch 14/100\n",
      "750/750 [==============================] - 0s 94us/sample - loss: 0.3590 - acc: 1.0000\n",
      "Epoch 15/100\n",
      "750/750 [==============================] - 0s 107us/sample - loss: 0.3487 - acc: 1.0000\n",
      "Epoch 16/100\n",
      "750/750 [==============================] - 0s 87us/sample - loss: 0.3389 - acc: 1.0000\n",
      "Epoch 17/100\n",
      "750/750 [==============================] - 0s 92us/sample - loss: 0.3294 - acc: 1.0000\n",
      "Epoch 18/100\n",
      "750/750 [==============================] - 0s 104us/sample - loss: 0.3204 - acc: 1.0000\n",
      "Epoch 19/100\n",
      "750/750 [==============================] - 0s 136us/sample - loss: 0.3117 - acc: 1.0000\n",
      "Epoch 20/100\n",
      "750/750 [==============================] - 0s 86us/sample - loss: 0.3033 - acc: 1.0000\n",
      "Epoch 21/100\n",
      "750/750 [==============================] - 0s 85us/sample - loss: 0.2953 - acc: 1.0000\n",
      "Epoch 22/100\n",
      "750/750 [==============================] - 0s 83us/sample - loss: 0.2877 - acc: 1.0000\n",
      "Epoch 23/100\n",
      "750/750 [==============================] - 0s 63us/sample - loss: 0.2803 - acc: 1.0000\n",
      "Epoch 24/100\n",
      "750/750 [==============================] - 0s 66us/sample - loss: 0.2732 - acc: 1.0000\n",
      "Epoch 25/100\n",
      "750/750 [==============================] - 0s 68us/sample - loss: 0.2665 - acc: 1.0000\n",
      "Epoch 26/100\n",
      "750/750 [==============================] - 0s 92us/sample - loss: 0.2600 - acc: 1.0000\n",
      "Epoch 27/100\n",
      "750/750 [==============================] - 0s 124us/sample - loss: 0.2537 - acc: 1.0000\n",
      "Epoch 28/100\n",
      "750/750 [==============================] - 0s 104us/sample - loss: 0.2477 - acc: 1.0000\n",
      "Epoch 29/100\n",
      "750/750 [==============================] - 0s 70us/sample - loss: 0.2419 - acc: 1.0000\n",
      "Epoch 30/100\n",
      "750/750 [==============================] - 0s 88us/sample - loss: 0.2363 - acc: 1.0000\n",
      "Epoch 31/100\n",
      "750/750 [==============================] - 0s 104us/sample - loss: 0.2310 - acc: 1.0000\n",
      "Epoch 32/100\n",
      "750/750 [==============================] - 0s 189us/sample - loss: 0.2258 - acc: 1.0000\n",
      "Epoch 33/100\n",
      "750/750 [==============================] - 0s 117us/sample - loss: 0.2208 - acc: 1.0000\n",
      "Epoch 34/100\n",
      "750/750 [==============================] - 0s 100us/sample - loss: 0.2159 - acc: 1.0000\n",
      "Epoch 35/100\n",
      "750/750 [==============================] - 0s 69us/sample - loss: 0.2113 - acc: 1.0000\n",
      "Epoch 36/100\n",
      "750/750 [==============================] - 0s 68us/sample - loss: 0.2068 - acc: 1.0000\n",
      "Epoch 37/100\n",
      "750/750 [==============================] - 0s 111us/sample - loss: 0.2024 - acc: 1.0000\n",
      "Epoch 38/100\n",
      "750/750 [==============================] - 0s 135us/sample - loss: 0.1982 - acc: 1.0000\n",
      "Epoch 39/100\n",
      "750/750 [==============================] - 0s 91us/sample - loss: 0.1940 - acc: 1.0000\n",
      "Epoch 40/100\n",
      "750/750 [==============================] - 0s 116us/sample - loss: 0.1900 - acc: 1.0000\n",
      "Epoch 41/100\n",
      "750/750 [==============================] - 0s 127us/sample - loss: 0.1862 - acc: 1.0000\n",
      "Epoch 42/100\n",
      "750/750 [==============================] - 0s 105us/sample - loss: 0.1824 - acc: 1.0000\n",
      "Epoch 43/100\n",
      "750/750 [==============================] - 0s 68us/sample - loss: 0.1788 - acc: 1.0000\n",
      "Epoch 44/100\n",
      "750/750 [==============================] - 0s 107us/sample - loss: 0.1753 - acc: 1.0000\n",
      "Epoch 45/100\n",
      "750/750 [==============================] - 0s 133us/sample - loss: 0.1719 - acc: 1.0000\n",
      "Epoch 46/100\n",
      "750/750 [==============================] - 0s 92us/sample - loss: 0.1685 - acc: 1.0000\n",
      "Epoch 47/100\n",
      "750/750 [==============================] - 0s 93us/sample - loss: 0.1653 - acc: 1.0000\n",
      "Epoch 48/100\n",
      "750/750 [==============================] - 0s 117us/sample - loss: 0.1622 - acc: 1.0000\n",
      "Epoch 49/100\n",
      "750/750 [==============================] - 0s 127us/sample - loss: 0.1591 - acc: 1.0000\n",
      "Epoch 50/100\n",
      "750/750 [==============================] - 0s 69us/sample - loss: 0.1562 - acc: 1.0000\n",
      "Epoch 51/100\n",
      "750/750 [==============================] - 0s 95us/sample - loss: 0.1533 - acc: 1.0000\n",
      "Epoch 52/100\n",
      "750/750 [==============================] - 0s 87us/sample - loss: 0.1504 - acc: 1.0000\n",
      "Epoch 53/100\n",
      "750/750 [==============================] - 0s 83us/sample - loss: 0.1477 - acc: 1.0000\n",
      "Epoch 54/100\n",
      "750/750 [==============================] - 0s 77us/sample - loss: 0.1450 - acc: 1.0000\n",
      "Epoch 55/100\n",
      "750/750 [==============================] - 0s 107us/sample - loss: 0.1424 - acc: 1.0000\n",
      "Epoch 56/100\n",
      "750/750 [==============================] - 0s 112us/sample - loss: 0.1399 - acc: 1.0000\n",
      "Epoch 57/100\n",
      "750/750 [==============================] - 0s 69us/sample - loss: 0.1374 - acc: 1.0000\n",
      "Epoch 58/100\n",
      "750/750 [==============================] - 0s 81us/sample - loss: 0.1350 - acc: 1.0000\n",
      "Epoch 59/100\n",
      "750/750 [==============================] - 0s 73us/sample - loss: 0.1326 - acc: 1.0000\n",
      "Epoch 60/100\n",
      "750/750 [==============================] - 0s 92us/sample - loss: 0.1303 - acc: 1.0000\n",
      "Epoch 61/100\n",
      "750/750 [==============================] - 0s 83us/sample - loss: 0.1281 - acc: 1.0000\n",
      "Epoch 62/100\n",
      "750/750 [==============================] - 0s 78us/sample - loss: 0.1259 - acc: 1.0000\n",
      "Epoch 63/100\n",
      "750/750 [==============================] - 0s 61us/sample - loss: 0.1238 - acc: 1.0000\n",
      "Epoch 64/100\n",
      "750/750 [==============================] - 0s 65us/sample - loss: 0.1217 - acc: 1.0000\n",
      "Epoch 65/100\n",
      "750/750 [==============================] - 0s 88us/sample - loss: 0.1196 - acc: 1.0000\n",
      "Epoch 66/100\n",
      "750/750 [==============================] - 0s 63us/sample - loss: 0.1176 - acc: 1.0000\n",
      "Epoch 67/100\n",
      "750/750 [==============================] - 0s 135us/sample - loss: 0.1157 - acc: 1.0000\n",
      "Epoch 68/100\n",
      "750/750 [==============================] - 0s 111us/sample - loss: 0.1138 - acc: 1.0000\n",
      "Epoch 69/100\n",
      "750/750 [==============================] - 0s 144us/sample - loss: 0.1119 - acc: 1.0000\n",
      "Epoch 70/100\n",
      "750/750 [==============================] - 0s 105us/sample - loss: 0.1101 - acc: 1.0000\n",
      "Epoch 71/100\n",
      "750/750 [==============================] - 0s 93us/sample - loss: 0.1083 - acc: 1.0000\n",
      "Epoch 72/100\n",
      "750/750 [==============================] - 0s 121us/sample - loss: 0.1065 - acc: 1.0000\n",
      "Epoch 73/100\n",
      "750/750 [==============================] - 0s 153us/sample - loss: 0.1049 - acc: 1.0000\n",
      "Epoch 74/100\n",
      "750/750 [==============================] - 0s 149us/sample - loss: 0.1032 - acc: 1.0000\n",
      "Epoch 75/100\n",
      "750/750 [==============================] - 0s 137us/sample - loss: 0.1016 - acc: 1.0000\n",
      "Epoch 76/100\n",
      "750/750 [==============================] - 0s 124us/sample - loss: 0.1000 - acc: 1.0000\n",
      "Epoch 77/100\n",
      "750/750 [==============================] - 0s 181us/sample - loss: 0.0984 - acc: 1.0000\n",
      "Epoch 78/100\n",
      "750/750 [==============================] - 0s 83us/sample - loss: 0.0969 - acc: 1.0000\n",
      "Epoch 79/100\n",
      "750/750 [==============================] - 0s 69us/sample - loss: 0.0954 - acc: 1.0000\n",
      "Epoch 80/100\n",
      "750/750 [==============================] - 0s 80us/sample - loss: 0.0939 - acc: 1.0000\n",
      "Epoch 81/100\n",
      "750/750 [==============================] - 0s 62us/sample - loss: 0.0924 - acc: 1.0000\n",
      "Epoch 82/100\n"
     ]
    },
    {
     "name": "stdout",
     "output_type": "stream",
     "text": [
      "750/750 [==============================] - 0s 64us/sample - loss: 0.0910 - acc: 1.0000\n",
      "Epoch 83/100\n",
      "750/750 [==============================] - 0s 77us/sample - loss: 0.0897 - acc: 1.0000\n",
      "Epoch 84/100\n",
      "750/750 [==============================] - 0s 68us/sample - loss: 0.0883 - acc: 1.0000\n",
      "Epoch 85/100\n",
      "750/750 [==============================] - 0s 73us/sample - loss: 0.0870 - acc: 1.0000\n",
      "Epoch 86/100\n",
      "750/750 [==============================] - 0s 104us/sample - loss: 0.0857 - acc: 1.0000\n",
      "Epoch 87/100\n",
      "750/750 [==============================] - 0s 93us/sample - loss: 0.0844 - acc: 1.0000\n",
      "Epoch 88/100\n",
      "750/750 [==============================] - 0s 69us/sample - loss: 0.0831 - acc: 1.0000\n",
      "Epoch 89/100\n",
      "750/750 [==============================] - 0s 72us/sample - loss: 0.0819 - acc: 1.0000\n",
      "Epoch 90/100\n",
      "750/750 [==============================] - 0s 95us/sample - loss: 0.0807 - acc: 1.0000\n",
      "Epoch 91/100\n",
      "750/750 [==============================] - 0s 105us/sample - loss: 0.0795 - acc: 1.0000\n",
      "Epoch 92/100\n",
      "750/750 [==============================] - 0s 121us/sample - loss: 0.0784 - acc: 1.0000\n",
      "Epoch 93/100\n",
      "750/750 [==============================] - 0s 99us/sample - loss: 0.0772 - acc: 1.0000\n",
      "Epoch 94/100\n",
      "750/750 [==============================] - 0s 131us/sample - loss: 0.0761 - acc: 1.0000\n",
      "Epoch 95/100\n",
      "750/750 [==============================] - 0s 124us/sample - loss: 0.0750 - acc: 1.0000\n",
      "Epoch 96/100\n",
      "750/750 [==============================] - 0s 84us/sample - loss: 0.0740 - acc: 1.0000\n",
      "Epoch 97/100\n",
      "750/750 [==============================] - 0s 97us/sample - loss: 0.0729 - acc: 1.0000\n",
      "Epoch 98/100\n",
      "750/750 [==============================] - 0s 111us/sample - loss: 0.0718 - acc: 1.0000\n",
      "Epoch 99/100\n",
      "750/750 [==============================] - 0s 107us/sample - loss: 0.0708 - acc: 1.0000\n",
      "Epoch 100/100\n",
      "750/750 [==============================] - 0s 88us/sample - loss: 0.0698 - acc: 1.0000\n"
     ]
    }
   ],
   "source": [
    "# Fit the model to the training data\n",
    "fit_model = nn_model.fit(X_train_scaled, y_train, epochs=100)"
   ]
  },
  {
   "cell_type": "code",
   "execution_count": 33,
   "metadata": {},
   "outputs": [
    {
     "data": {
      "text/plain": [
       "<matplotlib.axes._subplots.AxesSubplot at 0x259c14302c8>"
      ]
     },
     "execution_count": 33,
     "metadata": {},
     "output_type": "execute_result"
    },
    {
     "data": {
      "image/png": "[encoded data removed]",
      "text/plain": [
       "<Figure size 432x288 with 1 Axes>"
      ]
     },
     "metadata": {
      "needs_background": "light"
     },
     "output_type": "display_data"
    }
   ],
   "source": [
    "# Create a DataFrame containing training history\n",
    "history_df = pd.DataFrame(fit_model.history, index=range(1,len(fit_model.history[\"loss\"])+1))\n",
    "\n",
    "# Plot the loss\n",
    "history_df.plot(y=\"loss\")"
   ]
  },
  {
   "cell_type": "code",
   "execution_count": 35,
   "metadata": {},
   "outputs": [
    {
     "data": {
      "text/plain": [
       "<matplotlib.axes._subplots.AxesSubplot at 0x259c14aee48>"
      ]
     },
     "execution_count": 35,
     "metadata": {},
     "output_type": "execute_result"
    },
    {
     "data": {
      "image/png": "[encoded data removed]",
      "text/plain": [
       "<Figure size 432x288 with 1 Axes>"
      ]
     },
     "metadata": {
      "needs_background": "light"
     },
     "output_type": "display_data"
    }
   ],
   "source": [
    "# Plot the accuracy\n",
    "history_df.plot(y=\"acc\")"
   ]
  },
  {
   "cell_type": "code",
   "execution_count": 36,
   "metadata": {},
   "outputs": [
    {
     "name": "stdout",
     "output_type": "stream",
     "text": [
      "250/250 - 0s - loss: 0.0656 - acc: 1.0000\n",
      "Loss: 0.06562902563810348, Accuracy: 1.0\n"
     ]
    }
   ],
   "source": [
    "# Evaluate the model using the test data\n",
    "model_loss, model_accuracy = nn_model.evaluate(X_test_scaled,y_test,verbose=2)\n",
    "print(f\"Loss: {model_loss}, Accuracy: {model_accuracy}\")"
   ]
  },
  {
   "cell_type": "code",
   "execution_count": 37,
   "metadata": {},
   "outputs": [
    {
     "data": {
      "text/plain": [
       "array([[0],\n",
       "       [1],\n",
       "       [0],\n",
       "       [1],\n",
       "       [0],\n",
       "       [0],\n",
       "       [1],\n",
       "       [1],\n",
       "       [1],\n",
       "       [0]])"
      ]
     },
     "execution_count": 37,
     "metadata": {},
     "output_type": "execute_result"
    }
   ],
   "source": [
    "# Predict the classification of a new set of blob data\n",
    "new_X, new_Y = make_blobs(n_samples=10, centers=2, n_features=2, random_state=78)\n",
    "new_X_scaled = X_scaler.transform(new_X)\n",
    "nn_model.predict_classes(new_X_scaled)"
   ]
  },
  {
   "cell_type": "code",
   "execution_count": 38,
   "metadata": {},
   "outputs": [
    {
     "data": {
      "text/plain": [
       "<matplotlib.axes._subplots.AxesSubplot at 0x259c152da08>"
      ]
     },
     "execution_count": 38,
     "metadata": {},
     "output_type": "execute_result"
    },
    {
     "data": {
      "image/png": "[encoded data removed]",
      "text/plain": [
       "<Figure size 432x288 with 2 Axes>"
      ]
     },
     "metadata": {
      "needs_background": "light"
     },
     "output_type": "display_data"
    }
   ],
   "source": [
    "from sklearn.datasets import make_moons\n",
    "\n",
    "# Creating dummy nonlinear data\n",
    "X_moons, y_moons = make_moons(n_samples=1000, noise=0.08, random_state=78)\n",
    "\n",
    "# Transforming y_moons to a vertical vector\n",
    "y_moons = y_moons.reshape(-1, 1)\n",
    "\n",
    "# Creating a DataFrame to plot the nonlinear dummy data\n",
    "df_moons = pd.DataFrame(X_moons, columns=[\"Feature 1\", \"Feature 2\"])\n",
    "df_moons[\"Target\"] = y_moons\n",
    "\n",
    "# Plot the nonlinear dummy data\n",
    "df_moons.plot.scatter(x=\"Feature 1\",y=\"Feature 2\", c=\"Target\",colormap=\"winter\")"
   ]
  },
  {
   "cell_type": "code",
   "execution_count": 39,
   "metadata": {},
   "outputs": [],
   "source": [
    "# Create training and testing sets\n",
    "X_moon_train, X_moon_test, y_moon_train, y_moon_test = train_test_split(\n",
    "    X_moons, y_moons, random_state=78\n",
    ")\n",
    "\n",
    "# Create the scaler instance\n",
    "X_moon_scaler = skl.preprocessing.StandardScaler()\n",
    "\n",
    "# Fit the scaler\n",
    "X_moon_scaler.fit(X_moon_train)\n",
    "\n",
    "# Scale the data\n",
    "X_moon_train_scaled = X_moon_scaler.transform(X_moon_train)\n",
    "X_moon_test_scaled = X_moon_scaler.transform(X_moon_test)"
   ]
  },
  {
   "cell_type": "code",
   "execution_count": 40,
   "metadata": {},
   "outputs": [
    {
     "name": "stdout",
     "output_type": "stream",
     "text": [
      "Epoch 1/100\n",
      "750/750 [==============================] - 0s 64us/sample - loss: 0.8263 - acc: 0.6187\n",
      "Epoch 2/100\n",
      "750/750 [==============================] - 0s 61us/sample - loss: 0.7374 - acc: 0.6400\n",
      "Epoch 3/100\n",
      "750/750 [==============================] - 0s 77us/sample - loss: 0.6759 - acc: 0.6600\n",
      "Epoch 4/100\n",
      "750/750 [==============================] - 0s 66us/sample - loss: 0.6356 - acc: 0.6733\n",
      "Epoch 5/100\n",
      "750/750 [==============================] - 0s 65us/sample - loss: 0.6060 - acc: 0.6827\n",
      "Epoch 6/100\n",
      "750/750 [==============================] - 0s 137us/sample - loss: 0.5824 - acc: 0.6920\n",
      "Epoch 7/100\n",
      "750/750 [==============================] - 0s 64us/sample - loss: 0.5637 - acc: 0.6987\n",
      "Epoch 8/100\n",
      "750/750 [==============================] - 0s 67us/sample - loss: 0.5474 - acc: 0.7147\n",
      "Epoch 9/100\n",
      "750/750 [==============================] - 0s 60us/sample - loss: 0.5337 - acc: 0.7187\n",
      "Epoch 10/100\n",
      "750/750 [==============================] - 0s 56us/sample - loss: 0.5209 - acc: 0.7267\n",
      "Epoch 11/100\n",
      "750/750 [==============================] - 0s 57us/sample - loss: 0.5093 - acc: 0.7280\n",
      "Epoch 12/100\n",
      "750/750 [==============================] - 0s 65us/sample - loss: 0.4989 - acc: 0.7320\n",
      "Epoch 13/100\n",
      "750/750 [==============================] - 0s 56us/sample - loss: 0.4890 - acc: 0.7413\n",
      "Epoch 14/100\n",
      "750/750 [==============================] - 0s 56us/sample - loss: 0.4798 - acc: 0.7453\n",
      "Epoch 15/100\n",
      "750/750 [==============================] - 0s 57us/sample - loss: 0.4706 - acc: 0.7507\n",
      "Epoch 16/100\n",
      "750/750 [==============================] - 0s 57us/sample - loss: 0.4616 - acc: 0.7547\n",
      "Epoch 17/100\n",
      "750/750 [==============================] - 0s 66us/sample - loss: 0.4532 - acc: 0.7600\n",
      "Epoch 18/100\n",
      "750/750 [==============================] - 0s 66us/sample - loss: 0.4452 - acc: 0.7653\n",
      "Epoch 19/100\n",
      "750/750 [==============================] - 0s 65us/sample - loss: 0.4379 - acc: 0.7747\n",
      "Epoch 20/100\n",
      "750/750 [==============================] - 0s 82us/sample - loss: 0.4309 - acc: 0.7760\n",
      "Epoch 21/100\n",
      "750/750 [==============================] - 0s 88us/sample - loss: 0.4240 - acc: 0.7787\n",
      "Epoch 22/100\n",
      "750/750 [==============================] - 0s 64us/sample - loss: 0.4174 - acc: 0.7827\n",
      "Epoch 23/100\n",
      "750/750 [==============================] - 0s 88us/sample - loss: 0.4107 - acc: 0.7827\n",
      "Epoch 24/100\n",
      "750/750 [==============================] - 0s 88us/sample - loss: 0.4047 - acc: 0.7893\n",
      "Epoch 25/100\n",
      "750/750 [==============================] - 0s 118us/sample - loss: 0.3989 - acc: 0.7947\n",
      "Epoch 26/100\n",
      "750/750 [==============================] - 0s 66us/sample - loss: 0.3931 - acc: 0.8027\n",
      "Epoch 27/100\n",
      "750/750 [==============================] - 0s 112us/sample - loss: 0.3876 - acc: 0.8093\n",
      "Epoch 28/100\n",
      "750/750 [==============================] - 0s 77us/sample - loss: 0.3823 - acc: 0.8120\n",
      "Epoch 29/100\n",
      "750/750 [==============================] - 0s 64us/sample - loss: 0.3771 - acc: 0.8120\n",
      "Epoch 30/100\n",
      "750/750 [==============================] - 0s 84us/sample - loss: 0.3720 - acc: 0.8160\n",
      "Epoch 31/100\n",
      "750/750 [==============================] - 0s 88us/sample - loss: 0.3671 - acc: 0.8173\n",
      "Epoch 32/100\n",
      "750/750 [==============================] - 0s 69us/sample - loss: 0.3624 - acc: 0.8200\n",
      "Epoch 33/100\n",
      "750/750 [==============================] - 0s 222us/sample - loss: 0.3578 - acc: 0.8227\n",
      "Epoch 34/100\n",
      "750/750 [==============================] - 0s 112us/sample - loss: 0.3533 - acc: 0.8253\n",
      "Epoch 35/100\n",
      "750/750 [==============================] - 0s 85us/sample - loss: 0.3493 - acc: 0.8267\n",
      "Epoch 36/100\n",
      "750/750 [==============================] - 0s 72us/sample - loss: 0.3452 - acc: 0.8267\n",
      "Epoch 37/100\n",
      "750/750 [==============================] - 0s 69us/sample - loss: 0.3411 - acc: 0.8293\n",
      "Epoch 38/100\n",
      "750/750 [==============================] - 0s 85us/sample - loss: 0.3371 - acc: 0.8307\n",
      "Epoch 39/100\n",
      "750/750 [==============================] - 0s 65us/sample - loss: 0.3334 - acc: 0.8307\n",
      "Epoch 40/100\n",
      "750/750 [==============================] - 0s 104us/sample - loss: 0.3295 - acc: 0.8333\n",
      "Epoch 41/100\n",
      "750/750 [==============================] - 0s 69us/sample - loss: 0.3258 - acc: 0.8373\n",
      "Epoch 42/100\n",
      "750/750 [==============================] - 0s 80us/sample - loss: 0.3222 - acc: 0.8387\n",
      "Epoch 43/100\n",
      "750/750 [==============================] - 0s 67us/sample - loss: 0.3187 - acc: 0.8413\n",
      "Epoch 44/100\n",
      "750/750 [==============================] - 0s 69us/sample - loss: 0.3154 - acc: 0.8427\n",
      "Epoch 45/100\n",
      "750/750 [==============================] - 0s 88us/sample - loss: 0.3121 - acc: 0.8453\n",
      "Epoch 46/100\n",
      "750/750 [==============================] - 0s 91us/sample - loss: 0.3090 - acc: 0.8507\n",
      "Epoch 47/100\n",
      "750/750 [==============================] - 0s 153us/sample - loss: 0.3061 - acc: 0.8507\n",
      "Epoch 48/100\n",
      "750/750 [==============================] - 0s 119us/sample - loss: 0.3035 - acc: 0.8520\n",
      "Epoch 49/100\n",
      "750/750 [==============================] - 0s 132us/sample - loss: 0.3009 - acc: 0.8520\n",
      "Epoch 50/100\n",
      "750/750 [==============================] - 0s 107us/sample - loss: 0.2985 - acc: 0.8547\n",
      "Epoch 51/100\n",
      "750/750 [==============================] - 0s 116us/sample - loss: 0.2964 - acc: 0.8613\n",
      "Epoch 52/100\n",
      "750/750 [==============================] - 0s 71us/sample - loss: 0.2942 - acc: 0.8613\n",
      "Epoch 53/100\n",
      "750/750 [==============================] - 0s 60us/sample - loss: 0.2922 - acc: 0.8693\n",
      "Epoch 54/100\n",
      "750/750 [==============================] - 0s 68us/sample - loss: 0.2904 - acc: 0.8707\n",
      "Epoch 55/100\n",
      "750/750 [==============================] - 0s 60us/sample - loss: 0.2887 - acc: 0.8707\n",
      "Epoch 56/100\n",
      "750/750 [==============================] - 0s 67us/sample - loss: 0.2872 - acc: 0.8720\n",
      "Epoch 57/100\n",
      "750/750 [==============================] - 0s 58us/sample - loss: 0.2858 - acc: 0.8720\n",
      "Epoch 58/100\n",
      "750/750 [==============================] - 0s 79us/sample - loss: 0.2844 - acc: 0.8747\n",
      "Epoch 59/100\n",
      "750/750 [==============================] - 0s 109us/sample - loss: 0.2831 - acc: 0.8787\n",
      "Epoch 60/100\n",
      "750/750 [==============================] - 0s 72us/sample - loss: 0.2819 - acc: 0.8787\n",
      "Epoch 61/100\n",
      "750/750 [==============================] - 0s 115us/sample - loss: 0.2808 - acc: 0.8827\n",
      "Epoch 62/100\n",
      "750/750 [==============================] - 0s 116us/sample - loss: 0.2798 - acc: 0.8840\n",
      "Epoch 63/100\n",
      "750/750 [==============================] - 0s 71us/sample - loss: 0.2789 - acc: 0.8853\n",
      "Epoch 64/100\n",
      "750/750 [==============================] - 0s 100us/sample - loss: 0.2779 - acc: 0.8867\n",
      "Epoch 65/100\n",
      "750/750 [==============================] - 0s 63us/sample - loss: 0.2771 - acc: 0.8867\n",
      "Epoch 66/100\n",
      "750/750 [==============================] - 0s 75us/sample - loss: 0.2763 - acc: 0.8867\n",
      "Epoch 67/100\n",
      "750/750 [==============================] - 0s 87us/sample - loss: 0.2755 - acc: 0.8880\n",
      "Epoch 68/100\n",
      "750/750 [==============================] - 0s 93us/sample - loss: 0.2748 - acc: 0.8880\n",
      "Epoch 69/100\n",
      "750/750 [==============================] - 0s 56us/sample - loss: 0.2741 - acc: 0.8893\n",
      "Epoch 70/100\n",
      "750/750 [==============================] - 0s 60us/sample - loss: 0.2735 - acc: 0.8893\n",
      "Epoch 71/100\n",
      "750/750 [==============================] - 0s 68us/sample - loss: 0.2728 - acc: 0.8920\n",
      "Epoch 72/100\n",
      "750/750 [==============================] - 0s 60us/sample - loss: 0.2722 - acc: 0.8920\n",
      "Epoch 73/100\n",
      "750/750 [==============================] - 0s 59us/sample - loss: 0.2716 - acc: 0.8920\n",
      "Epoch 74/100\n",
      "750/750 [==============================] - 0s 65us/sample - loss: 0.2712 - acc: 0.8920\n",
      "Epoch 75/100\n",
      "750/750 [==============================] - 0s 56us/sample - loss: 0.2706 - acc: 0.8920\n",
      "Epoch 76/100\n",
      "750/750 [==============================] - 0s 64us/sample - loss: 0.2700 - acc: 0.8920\n",
      "Epoch 77/100\n",
      "750/750 [==============================] - 0s 108us/sample - loss: 0.2696 - acc: 0.8920\n",
      "Epoch 78/100\n",
      "750/750 [==============================] - 0s 64us/sample - loss: 0.2691 - acc: 0.8933\n",
      "Epoch 79/100\n",
      "750/750 [==============================] - 0s 65us/sample - loss: 0.2688 - acc: 0.8920\n",
      "Epoch 80/100\n",
      "750/750 [==============================] - 0s 68us/sample - loss: 0.2683 - acc: 0.8920\n",
      "Epoch 81/100\n",
      "750/750 [==============================] - 0s 64us/sample - loss: 0.2678 - acc: 0.8920\n",
      "Epoch 82/100\n"
     ]
    },
    {
     "name": "stdout",
     "output_type": "stream",
     "text": [
      "750/750 [==============================] - 0s 64us/sample - loss: 0.2674 - acc: 0.8920\n",
      "Epoch 83/100\n",
      "750/750 [==============================] - 0s 84us/sample - loss: 0.2670 - acc: 0.8920\n",
      "Epoch 84/100\n",
      "750/750 [==============================] - 0s 65us/sample - loss: 0.2666 - acc: 0.8907\n",
      "Epoch 85/100\n",
      "750/750 [==============================] - 0s 63us/sample - loss: 0.2663 - acc: 0.8907\n",
      "Epoch 86/100\n",
      "750/750 [==============================] - 0s 71us/sample - loss: 0.2659 - acc: 0.8907\n",
      "Epoch 87/100\n",
      "750/750 [==============================] - 0s 84us/sample - loss: 0.2656 - acc: 0.8907\n",
      "Epoch 88/100\n",
      "750/750 [==============================] - 0s 62us/sample - loss: 0.2652 - acc: 0.8920\n",
      "Epoch 89/100\n",
      "750/750 [==============================] - 0s 74us/sample - loss: 0.2650 - acc: 0.8920\n",
      "Epoch 90/100\n",
      "750/750 [==============================] - 0s 97us/sample - loss: 0.2646 - acc: 0.8920\n",
      "Epoch 91/100\n",
      "750/750 [==============================] - 0s 89us/sample - loss: 0.2643 - acc: 0.8920\n",
      "Epoch 92/100\n",
      "750/750 [==============================] - 0s 92us/sample - loss: 0.2640 - acc: 0.8920\n",
      "Epoch 93/100\n",
      "750/750 [==============================] - 0s 86us/sample - loss: 0.2637 - acc: 0.8920\n",
      "Epoch 94/100\n",
      "750/750 [==============================] - 0s 88us/sample - loss: 0.2634 - acc: 0.8920\n",
      "Epoch 95/100\n",
      "750/750 [==============================] - 0s 88us/sample - loss: 0.2632 - acc: 0.8920\n",
      "Epoch 96/100\n",
      "750/750 [==============================] - 0s 90us/sample - loss: 0.2629 - acc: 0.8920\n",
      "Epoch 97/100\n",
      "750/750 [==============================] - 0s 92us/sample - loss: 0.2626 - acc: 0.8920\n",
      "Epoch 98/100\n",
      "750/750 [==============================] - 0s 86us/sample - loss: 0.2623 - acc: 0.8920\n",
      "Epoch 99/100\n",
      "750/750 [==============================] - 0s 87us/sample - loss: 0.2622 - acc: 0.8920\n",
      "Epoch 100/100\n",
      "750/750 [==============================] - 0s 63us/sample - loss: 0.2619 - acc: 0.8920\n"
     ]
    }
   ],
   "source": [
    "# Training the model with the nonlinear data\n",
    "model_moon = nn_model.fit(X_moon_train_scaled, y_moon_train, epochs=100, shuffle=True)"
   ]
  },
  {
   "cell_type": "code",
   "execution_count": 41,
   "metadata": {},
   "outputs": [
    {
     "data": {
      "text/plain": [
       "<matplotlib.axes._subplots.AxesSubplot at 0x259c25a48c8>"
      ]
     },
     "execution_count": 41,
     "metadata": {},
     "output_type": "execute_result"
    },
    {
     "data": {
      "image/png": "[encoded data removed]",
      "text/plain": [
       "<Figure size 432x288 with 1 Axes>"
      ]
     },
     "metadata": {
      "needs_background": "light"
     },
     "output_type": "display_data"
    }
   ],
   "source": [
    "# Create a DataFrame containing training history\n",
    "history_df = pd.DataFrame(model_moon.history, index=range(1,len(model_moon.history[\"loss\"])+1))\n",
    "\n",
    "# Plot the loss\n",
    "history_df.plot(y=\"loss\")"
   ]
  },
  {
   "cell_type": "code",
   "execution_count": 42,
   "metadata": {},
   "outputs": [
    {
     "data": {
      "text/plain": [
       "<matplotlib.axes._subplots.AxesSubplot at 0x259c260db08>"
      ]
     },
     "execution_count": 42,
     "metadata": {},
     "output_type": "execute_result"
    },
    {
     "data": {
      "image/png": "[encoded data removed]",
      "text/plain": [
       "<Figure size 432x288 with 1 Axes>"
      ]
     },
     "metadata": {
      "needs_background": "light"
     },
     "output_type": "display_data"
    }
   ],
   "source": [
    "# Plot the loss\n",
    "history_df.plot(y=\"acc\")"
   ]
  },
  {
   "cell_type": "code",
   "execution_count": 43,
   "metadata": {},
   "outputs": [],
   "source": [
    "# Generate our new Sequential model\n",
    "new_model = tf.keras.models.Sequential()"
   ]
  },
  {
   "cell_type": "code",
   "execution_count": 44,
   "metadata": {},
   "outputs": [],
   "source": [
    "# Add the input and hidden layer\n",
    "number_inputs = 2\n",
    "number_hidden_nodes = 6\n",
    "\n",
    "new_model.add(tf.keras.layers.Dense(units=number_hidden_nodes, activation=\"relu\", input_dim=number_inputs))\n",
    "\n",
    "# Add the output layer that uses a probability activation function\n",
    "new_model.add(tf.keras.layers.Dense(units=1, activation=\"sigmoid\"))"
   ]
  },
  {
   "cell_type": "code",
   "execution_count": 45,
   "metadata": {},
   "outputs": [
    {
     "name": "stdout",
     "output_type": "stream",
     "text": [
      "Epoch 1/100\n",
      "750/750 [==============================] - 0s 317us/sample - loss: 0.7198 - acc: 0.5053\n",
      "Epoch 2/100\n",
      "750/750 [==============================] - 0s 100us/sample - loss: 0.6800 - acc: 0.5640\n",
      "Epoch 3/100\n",
      "750/750 [==============================] - 0s 118us/sample - loss: 0.6434 - acc: 0.5987\n",
      "Epoch 4/100\n",
      "750/750 [==============================] - 0s 114us/sample - loss: 0.6105 - acc: 0.6160\n",
      "Epoch 5/100\n",
      "750/750 [==============================] - 0s 129us/sample - loss: 0.5807 - acc: 0.6560\n",
      "Epoch 6/100\n",
      "750/750 [==============================] - 0s 69us/sample - loss: 0.5532 - acc: 0.6813\n",
      "Epoch 7/100\n",
      "750/750 [==============================] - 0s 77us/sample - loss: 0.5280 - acc: 0.6987\n",
      "Epoch 8/100\n",
      "750/750 [==============================] - 0s 90us/sample - loss: 0.5053 - acc: 0.7147\n",
      "Epoch 9/100\n",
      "750/750 [==============================] - 0s 64us/sample - loss: 0.4842 - acc: 0.7440\n",
      "Epoch 10/100\n",
      "750/750 [==============================] - 0s 62us/sample - loss: 0.4648 - acc: 0.7813\n",
      "Epoch 11/100\n",
      "750/750 [==============================] - 0s 65us/sample - loss: 0.4474 - acc: 0.8053\n",
      "Epoch 12/100\n",
      "750/750 [==============================] - 0s 57us/sample - loss: 0.4312 - acc: 0.8187\n",
      "Epoch 13/100\n",
      "750/750 [==============================] - 0s 60us/sample - loss: 0.4165 - acc: 0.8333\n",
      "Epoch 14/100\n",
      "750/750 [==============================] - 0s 70us/sample - loss: 0.4031 - acc: 0.8413\n",
      "Epoch 15/100\n",
      "750/750 [==============================] - 0s 89us/sample - loss: 0.3909 - acc: 0.8467\n",
      "Epoch 16/100\n",
      "750/750 [==============================] - 0s 70us/sample - loss: 0.3797 - acc: 0.8507\n",
      "Epoch 17/100\n",
      "750/750 [==============================] - 0s 86us/sample - loss: 0.3696 - acc: 0.8507\n",
      "Epoch 18/100\n",
      "750/750 [==============================] - 0s 106us/sample - loss: 0.3605 - acc: 0.8520\n",
      "Epoch 19/100\n",
      "750/750 [==============================] - 0s 121us/sample - loss: 0.3521 - acc: 0.8573\n",
      "Epoch 20/100\n",
      "750/750 [==============================] - 0s 134us/sample - loss: 0.3443 - acc: 0.8587\n",
      "Epoch 21/100\n",
      "750/750 [==============================] - 0s 81us/sample - loss: 0.3372 - acc: 0.8600\n",
      "Epoch 22/100\n",
      "750/750 [==============================] - 0s 86us/sample - loss: 0.3305 - acc: 0.8613\n",
      "Epoch 23/100\n",
      "750/750 [==============================] - 0s 78us/sample - loss: 0.3246 - acc: 0.8640\n",
      "Epoch 24/100\n",
      "750/750 [==============================] - 0s 67us/sample - loss: 0.3191 - acc: 0.8653\n",
      "Epoch 25/100\n",
      "750/750 [==============================] - 0s 69us/sample - loss: 0.3140 - acc: 0.8667\n",
      "Epoch 26/100\n",
      "750/750 [==============================] - 0s 64us/sample - loss: 0.3092 - acc: 0.8680\n",
      "Epoch 27/100\n",
      "750/750 [==============================] - 0s 89us/sample - loss: 0.3049 - acc: 0.8680\n",
      "Epoch 28/100\n",
      "750/750 [==============================] - 0s 88us/sample - loss: 0.3010 - acc: 0.8680\n",
      "Epoch 29/100\n",
      "750/750 [==============================] - 0s 147us/sample - loss: 0.2971 - acc: 0.8720\n",
      "Epoch 30/100\n",
      "750/750 [==============================] - 0s 85us/sample - loss: 0.2937 - acc: 0.8733\n",
      "Epoch 31/100\n",
      "750/750 [==============================] - 0s 68us/sample - loss: 0.2903 - acc: 0.8760\n",
      "Epoch 32/100\n",
      "750/750 [==============================] - 0s 92us/sample - loss: 0.2872 - acc: 0.8760\n",
      "Epoch 33/100\n",
      "750/750 [==============================] - 0s 82us/sample - loss: 0.2844 - acc: 0.8787\n",
      "Epoch 34/100\n",
      "750/750 [==============================] - 0s 82us/sample - loss: 0.2817 - acc: 0.8827\n",
      "Epoch 35/100\n",
      "750/750 [==============================] - 0s 90us/sample - loss: 0.2790 - acc: 0.8840\n",
      "Epoch 36/100\n",
      "750/750 [==============================] - 0s 84us/sample - loss: 0.2765 - acc: 0.8853\n",
      "Epoch 37/100\n",
      "750/750 [==============================] - 0s 90us/sample - loss: 0.2742 - acc: 0.8880\n",
      "Epoch 38/100\n",
      "750/750 [==============================] - 0s 85us/sample - loss: 0.2720 - acc: 0.8893\n",
      "Epoch 39/100\n",
      "750/750 [==============================] - 0s 80us/sample - loss: 0.2700 - acc: 0.8893\n",
      "Epoch 40/100\n",
      "750/750 [==============================] - 0s 66us/sample - loss: 0.2679 - acc: 0.8920\n",
      "Epoch 41/100\n",
      "750/750 [==============================] - 0s 89us/sample - loss: 0.2661 - acc: 0.8920\n",
      "Epoch 42/100\n",
      "750/750 [==============================] - 0s 88us/sample - loss: 0.2644 - acc: 0.8920\n",
      "Epoch 43/100\n",
      "750/750 [==============================] - 0s 96us/sample - loss: 0.2627 - acc: 0.8933\n",
      "Epoch 44/100\n",
      "750/750 [==============================] - 0s 81us/sample - loss: 0.2610 - acc: 0.8933\n",
      "Epoch 45/100\n",
      "750/750 [==============================] - 0s 97us/sample - loss: 0.2596 - acc: 0.8920\n",
      "Epoch 46/100\n",
      "750/750 [==============================] - 0s 148us/sample - loss: 0.2582 - acc: 0.8920\n",
      "Epoch 47/100\n",
      "750/750 [==============================] - 0s 82us/sample - loss: 0.2569 - acc: 0.8907\n",
      "Epoch 48/100\n",
      "750/750 [==============================] - 0s 81us/sample - loss: 0.2556 - acc: 0.8920\n",
      "Epoch 49/100\n",
      "750/750 [==============================] - 0s 82us/sample - loss: 0.2545 - acc: 0.8920\n",
      "Epoch 50/100\n",
      "750/750 [==============================] - 0s 70us/sample - loss: 0.2533 - acc: 0.8920\n",
      "Epoch 51/100\n",
      "750/750 [==============================] - 0s 85us/sample - loss: 0.2523 - acc: 0.8933\n",
      "Epoch 52/100\n",
      "750/750 [==============================] - 0s 89us/sample - loss: 0.2513 - acc: 0.8933\n",
      "Epoch 53/100\n",
      "750/750 [==============================] - 0s 86us/sample - loss: 0.2503 - acc: 0.8933\n",
      "Epoch 54/100\n",
      "750/750 [==============================] - 0s 84us/sample - loss: 0.2494 - acc: 0.8947\n",
      "Epoch 55/100\n",
      "750/750 [==============================] - 0s 178us/sample - loss: 0.2485 - acc: 0.8933\n",
      "Epoch 56/100\n",
      "750/750 [==============================] - 0s 142us/sample - loss: 0.2476 - acc: 0.8933\n",
      "Epoch 57/100\n",
      "750/750 [==============================] - 0s 100us/sample - loss: 0.2467 - acc: 0.8947\n",
      "Epoch 58/100\n",
      "750/750 [==============================] - 0s 108us/sample - loss: 0.2459 - acc: 0.8933\n",
      "Epoch 59/100\n",
      "750/750 [==============================] - 0s 72us/sample - loss: 0.2450 - acc: 0.8947\n",
      "Epoch 60/100\n",
      "750/750 [==============================] - 0s 88us/sample - loss: 0.2441 - acc: 0.8933\n",
      "Epoch 61/100\n",
      "750/750 [==============================] - 0s 82us/sample - loss: 0.2432 - acc: 0.8933\n",
      "Epoch 62/100\n",
      "750/750 [==============================] - 0s 81us/sample - loss: 0.2425 - acc: 0.8933\n",
      "Epoch 63/100\n",
      "750/750 [==============================] - 0s 88us/sample - loss: 0.2416 - acc: 0.8933\n",
      "Epoch 64/100\n",
      "750/750 [==============================] - 0s 72us/sample - loss: 0.2407 - acc: 0.8933\n",
      "Epoch 65/100\n",
      "750/750 [==============================] - 0s 85us/sample - loss: 0.2398 - acc: 0.8933\n",
      "Epoch 66/100\n",
      "750/750 [==============================] - 0s 45us/sample - loss: 0.2391 - acc: 0.8933\n",
      "Epoch 67/100\n",
      "750/750 [==============================] - 0s 61us/sample - loss: 0.2381 - acc: 0.8947\n",
      "Epoch 68/100\n",
      "750/750 [==============================] - 0s 54us/sample - loss: 0.2372 - acc: 0.8947\n",
      "Epoch 69/100\n",
      "750/750 [==============================] - 0s 68us/sample - loss: 0.2364 - acc: 0.8947\n",
      "Epoch 70/100\n",
      "750/750 [==============================] - 0s 81us/sample - loss: 0.2356 - acc: 0.8960\n",
      "Epoch 71/100\n",
      "750/750 [==============================] - 0s 78us/sample - loss: 0.2346 - acc: 0.8960\n",
      "Epoch 72/100\n",
      "750/750 [==============================] - 0s 80us/sample - loss: 0.2337 - acc: 0.8960\n",
      "Epoch 73/100\n",
      "750/750 [==============================] - 0s 86us/sample - loss: 0.2330 - acc: 0.8973\n",
      "Epoch 74/100\n",
      "750/750 [==============================] - 0s 77us/sample - loss: 0.2320 - acc: 0.8973\n",
      "Epoch 75/100\n",
      "750/750 [==============================] - 0s 98us/sample - loss: 0.2311 - acc: 0.8973\n",
      "Epoch 76/100\n",
      "750/750 [==============================] - 0s 77us/sample - loss: 0.2302 - acc: 0.8973\n",
      "Epoch 77/100\n",
      "750/750 [==============================] - 0s 90us/sample - loss: 0.2294 - acc: 0.8973\n",
      "Epoch 78/100\n",
      "750/750 [==============================] - 0s 65us/sample - loss: 0.2286 - acc: 0.8973\n",
      "Epoch 79/100\n",
      "750/750 [==============================] - 0s 76us/sample - loss: 0.2277 - acc: 0.8973\n",
      "Epoch 80/100\n",
      "750/750 [==============================] - 0s 62us/sample - loss: 0.2267 - acc: 0.8973\n",
      "Epoch 81/100\n",
      "750/750 [==============================] - 0s 72us/sample - loss: 0.2258 - acc: 0.8973\n",
      "Epoch 82/100\n"
     ]
    },
    {
     "name": "stdout",
     "output_type": "stream",
     "text": [
      "750/750 [==============================] - 0s 61us/sample - loss: 0.2248 - acc: 0.8987\n",
      "Epoch 83/100\n",
      "750/750 [==============================] - 0s 120us/sample - loss: 0.2237 - acc: 0.9000\n",
      "Epoch 84/100\n",
      "750/750 [==============================] - 0s 86us/sample - loss: 0.2227 - acc: 0.8987\n",
      "Epoch 85/100\n",
      "750/750 [==============================] - 0s 66us/sample - loss: 0.2216 - acc: 0.9027\n",
      "Epoch 86/100\n",
      "750/750 [==============================] - 0s 98us/sample - loss: 0.2206 - acc: 0.9000\n",
      "Epoch 87/100\n",
      "750/750 [==============================] - 0s 92us/sample - loss: 0.2196 - acc: 0.9027\n",
      "Epoch 88/100\n",
      "750/750 [==============================] - 0s 90us/sample - loss: 0.2184 - acc: 0.9040\n",
      "Epoch 89/100\n",
      "750/750 [==============================] - 0s 96us/sample - loss: 0.2174 - acc: 0.9040\n",
      "Epoch 90/100\n",
      "750/750 [==============================] - 0s 125us/sample - loss: 0.2163 - acc: 0.9040\n",
      "Epoch 91/100\n",
      "750/750 [==============================] - 0s 70us/sample - loss: 0.2150 - acc: 0.9040\n",
      "Epoch 92/100\n",
      "750/750 [==============================] - 0s 84us/sample - loss: 0.2139 - acc: 0.9040\n",
      "Epoch 93/100\n",
      "750/750 [==============================] - 0s 69us/sample - loss: 0.2128 - acc: 0.9040\n",
      "Epoch 94/100\n",
      "750/750 [==============================] - 0s 71us/sample - loss: 0.2116 - acc: 0.9040\n",
      "Epoch 95/100\n",
      "750/750 [==============================] - 0s 64us/sample - loss: 0.2103 - acc: 0.9053\n",
      "Epoch 96/100\n",
      "750/750 [==============================] - 0s 72us/sample - loss: 0.2092 - acc: 0.9080\n",
      "Epoch 97/100\n",
      "750/750 [==============================] - 0s 63us/sample - loss: 0.2080 - acc: 0.9053\n",
      "Epoch 98/100\n",
      "750/750 [==============================] - 0s 67us/sample - loss: 0.2067 - acc: 0.9080\n",
      "Epoch 99/100\n",
      "750/750 [==============================] - 0s 60us/sample - loss: 0.2054 - acc: 0.9080\n",
      "Epoch 100/100\n",
      "750/750 [==============================] - 0s 69us/sample - loss: 0.2041 - acc: 0.9093\n"
     ]
    }
   ],
   "source": [
    "# Compile the Sequential model together and customize metrics\n",
    "new_model.compile(loss=\"binary_crossentropy\", optimizer=\"adam\", metrics=[\"accuracy\"])\n",
    "\n",
    "# Fit the model to the training data\n",
    "new_fit_model = new_model.fit(X_moon_train_scaled, y_moon_train, epochs=100, shuffle=True)"
   ]
  },
  {
   "cell_type": "code",
   "execution_count": null,
   "metadata": {},
   "outputs": [],
   "source": []
  },
  {
   "cell_type": "code",
   "execution_count": null,
   "metadata": {},
   "outputs": [],
   "source": []
  },
  {
   "cell_type": "code",
   "execution_count": null,
   "metadata": {},
   "outputs": [],
   "source": []
  },
  {
   "cell_type": "code",
   "execution_count": null,
   "metadata": {},
   "outputs": [],
   "source": []
  }
 ],
 "metadata": {
  "kernelspec": {
   "display_name": "mlenv",
   "language": "python",
   "name": "mlenv"
  },
  "language_info": {
   "codemirror_mode": {
    "name": "ipython",
    "version": 3
   },
   "file_extension": ".py",
   "mimetype": "text/x-python",
   "name": "python",
   "nbconvert_exporter": "python",
   "pygments_lexer": "ipython3",
   "version": "3.7.6"
  }
 },
 "nbformat": 4,
 "nbformat_minor": 4
}
